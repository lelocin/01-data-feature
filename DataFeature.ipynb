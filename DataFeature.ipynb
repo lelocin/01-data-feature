{
  "nbformat": 4,
  "nbformat_minor": 0,
  "metadata": {
    "colab": {
      "provenance": []
    },
    "kernelspec": {
      "name": "python3",
      "display_name": "Python 3"
    },
    "language_info": {
      "name": "python"
    }
  },
  "cells": [
    {
      "cell_type": "markdown",
      "source": [
        "#PPDS HW1 Data Feature\n",
        "This notebook explains my data feature that calculates total calories of a random recipe given a chosen cuisine. The two APIs are Edamam Recipe and Edamam Nutrition.\n",
        "\n",
        "##Purpose\n",
        "This feature can help dieters by providing meal suggestions based on their preferences and assisting with calorie tracking. More broadly speaking, this feature can help anyone who simply needs recipes inspirations.\n",
        "\n",
        "As a health conscious college student who loves cooking and is always looking to try new recipes, this feature is a perfect solution!\n",
        "\n",
        "##Features\n",
        "*   Enter any desired cuisine (e.g. Italian, Indian or Chinese)\n",
        "*   Receive a random recipe\n",
        "*   Review a breakdown of total calories based on ingredients in the recipe\n",
        "\n",
        "##Setting up API\n",
        "Set up the following APIs by filling out applications via the website\n",
        "  \n",
        "*   Edamam  Recipe API: to receive a random recipe\n",
        "*   Edamam Nutrition API: for total calories calculation\n",
        "\n",
        "Then, Add both API IDs and Keys to SECRETS on Google Colab.\n",
        "\n",
        "##How to Use\n",
        "*   Run the notebook\n",
        "*   Enter any desired cuisine :(e.g. Italian, Indian or Chinese)\n",
        "*   The notebook will display total calories calculation of the chosen recipe\n",
        "*   Run the notebook again if you are not satisfied with the recipe!\n",
        "\n",
        "\n",
        "\n"
      ],
      "metadata": {
        "id": "1P7v3IG8mfh6"
      }
    },
    {
      "cell_type": "code",
      "source": [
        "import requests\n",
        "import random\n",
        "from google.colab import userdata\n",
        "\n",
        "ER_URL = \"https://api.edamam.com/search\"\n",
        "EN_URL = \"https://api.edamam.com/api/nutrition-data\"\n",
        "\n",
        "ER_ID = userdata.get('ERECIPE_ID')\n",
        "ER_KEY = userdata.get('ERECIPE_KEY')\n",
        "EN_ID = userdata.get('ENUTRITION_ID')\n",
        "EN_KEY = userdata.get('ENUTRITION_KEY')\n",
        "\n",
        "# get a recipe based on a chosen cuisine entered by the user\n",
        "def getRecipe(cuisine):\n",
        "    params = {\n",
        "        'q': cuisine,\n",
        "        'app_id': ER_ID,\n",
        "        'app_key': ER_KEY,\n",
        "        'cuisineType': cuisine, # filter by type of cuisine\n",
        "    }\n",
        "    r = requests.get(ER_URL, params=params)\n",
        "    if r.status_code == 200:\n",
        "        recipes = r.json().get('hits', [])\n",
        "        if recipes:\n",
        "            return random.choice(recipes)['recipe']  # return a random recipe\n",
        "    return None\n",
        "\n",
        "# calculate calories of a single ingredient\n",
        "def getCalories(ingredient):\n",
        "    params = {\n",
        "        'app_id': EN_ID,\n",
        "        'app_key': EN_KEY,\n",
        "        'ingr': ingredient\n",
        "    }\n",
        "    r = requests.get(EN_URL, params=params)\n",
        "    if r.status_code == 200:\n",
        "        data = r.json()\n",
        "        return data.get('calories', 0)\n",
        "    return None\n",
        "\n",
        "# calculate total calories of a list of ingredients\n",
        "def getTotalCal(ingredients):\n",
        "    totalCal = 0\n",
        "    for ingredient in ingredients:\n",
        "        calories = getCalories(ingredient)\n",
        "        print(f\"{ingredient}: {calories} kcal\")\n",
        "        totalCal += calories\n",
        "\n",
        "    return totalCal\n",
        "\n",
        "# main function to generate a random recipe and calculate total calories\n",
        "def generateRecipe(cuisine):\n",
        "    recipe = getRecipe(cuisine)\n",
        "    if not recipe:\n",
        "        return f\"No recipe found for {cuisine} cuisine\"\n",
        "    else:\n",
        "      recipe_name = recipe['label']\n",
        "      ingredients = recipe['ingredientLines']\n",
        "      print(f\"Recipe Name: {recipe_name}\")\n",
        "      totalCalories = getTotalCal(ingredients)\n",
        "\n",
        "    return f\"The recipe '{recipe_name}' contains around {totalCalories} calories.\"\n",
        "\n",
        "# call the function\n",
        "cuisine = input(\"Enter a cuisine (e.g., Italian, Indian, Chinese): \")\n",
        "result = generateRecipe(cuisine)\n",
        "print(result)"
      ],
      "metadata": {
        "colab": {
          "base_uri": "https://localhost:8080/"
        },
        "id": "DAuL4DBRcUy0",
        "outputId": "ff2fc0ab-5e9f-4f63-8fa6-a85e99c20892"
      },
      "execution_count": 11,
      "outputs": [
        {
          "output_type": "stream",
          "name": "stdout",
          "text": [
            "Enter a cuisine (e.g., Italian, Indian, Chinese): Korean\n",
            "Recipe Name: Korean-Style Romaine\n",
            "1 heart of romaine: 42 kcal\n",
            "1 teaspoon chopped garlic: 4 kcal\n",
            "1/2 teaspoon grated peeled ginger: 0 kcal\n",
            "1/4 teaspoon coarse Korean hot red-pepper flakes: 0 kcal\n",
            "1 tablespoon Asian sesame oil: 120 kcal\n",
            "1 tablespoon soy sauce: 8 kcal\n",
            "2 teaspoons water: 0 kcal\n",
            "1 teaspoon sesame seeds, toasted and crushed with side of a heavy knife: 17 kcal\n",
            "The recipe 'Korean-Style Romaine' contains around 191 calories.\n"
          ]
        }
      ]
    }
  ]
}